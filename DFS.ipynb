{
 "cells": [
  {
   "cell_type": "code",
   "execution_count": 1,
   "metadata": {},
   "outputs": [
    {
     "data": {
      "text/plain": [
       "'\\nGraph coloring\\nAlgorithm: DFS\\n\\nTeng Li\\n29.04.2022\\n'"
      ]
     },
     "execution_count": 1,
     "metadata": {},
     "output_type": "execute_result"
    }
   ],
   "source": [
    "'''\n",
    "Graph coloring\n",
    "Algorithm: DFS\n",
    "\n",
    "Teng Li\n",
    "29.04.2022\n",
    "'''"
   ]
  },
  {
   "cell_type": "code",
   "execution_count": 2,
   "metadata": {},
   "outputs": [
    {
     "name": "stdout",
     "output_type": "stream",
     "text": [
      "can\n"
     ]
    }
   ],
   "source": [
    "graph = [[1,3],[0,2],[1,3],[0,2]]\n",
    "# the number of nodes\n",
    "N = len(graph)\n",
    "# labeled nodes\n",
    "Labeled = {}\n",
    "#Label = [0,1]\n",
    "res = 'can'\n",
    "\n",
    "def DFS(node,label): # a function that check if node can be labeled as label\n",
    "    # if this node is labeled, check its label and the traget label\n",
    "    if node in Labeled:\n",
    "        return Labeled[node] == label\n",
    "    # if this node is unlabeled\n",
    "    # label it\n",
    "    Labeled[node] = label\n",
    "    # check if its neighbor can be labeled as different label\n",
    "    for neighbor in graph[node]:\n",
    "        if not DFS(neighbor, 1-label): # cant \n",
    "            return False\n",
    "    return True\n",
    "# now let's label every node\n",
    "for node in range(N):\n",
    "    if node in Labeled: # if this node is labeled, skip\n",
    "        continue\n",
    "    else: # this is a node that not connect with labeled part\n",
    "        if not DFS(node,0): # if can't label\n",
    "            res = 'cant'\n",
    "            break\n",
    "print(res)"
   ]
  },
  {
   "cell_type": "code",
   "execution_count": null,
   "metadata": {},
   "outputs": [],
   "source": []
  }
 ],
 "metadata": {
  "kernelspec": {
   "display_name": "Python 3",
   "language": "python",
   "name": "python3"
  },
  "language_info": {
   "codemirror_mode": {
    "name": "ipython",
    "version": 3
   },
   "file_extension": ".py",
   "mimetype": "text/x-python",
   "name": "python",
   "nbconvert_exporter": "python",
   "pygments_lexer": "ipython3",
   "version": "3.7.4"
  }
 },
 "nbformat": 4,
 "nbformat_minor": 2
}
