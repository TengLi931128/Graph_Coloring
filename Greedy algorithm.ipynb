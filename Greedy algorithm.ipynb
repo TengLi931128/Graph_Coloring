{
 "cells": [
  {
   "cell_type": "code",
   "execution_count": 1,
   "metadata": {},
   "outputs": [
    {
     "data": {
      "text/plain": [
       "'\\nGreedy algorithm\\nGraph Coloring\\nTeng Li\\n29.04.2022\\n\\n\\nRemark: the solution of greedy algorithm is not optimal very likely.\\n'"
      ]
     },
     "execution_count": 1,
     "metadata": {},
     "output_type": "execute_result"
    }
   ],
   "source": [
    "\"\"\"\n",
    "Greedy algorithm\n",
    "Graph Coloring\n",
    "Teng Li\n",
    "29.04.2022\n",
    "\n",
    "\n",
    "Remark: the solution of greedy algorithm is not optimal very likely.\n",
    "\"\"\"\n",
    "        \n",
    "    \n"
   ]
  },
  {
   "cell_type": "code",
   "execution_count": 2,
   "metadata": {},
   "outputs": [
    {
     "name": "stdout",
     "output_type": "stream",
     "text": [
      "[0, 1, 0, 2]\n"
     ]
    }
   ],
   "source": [
    "graph = [[1],[0,3],[3],[1,2]]\n",
    "Number_of_set = 2 # first set labeled as 0, second as 1\n",
    "\n",
    "# get the number of the nodes\n",
    "N = len(graph)\n",
    "# init all the nodes label, Number_of_set means unlabel\n",
    "Labels =[Number_of_set]*N\n",
    "\n",
    "#now let's label. if all nodes can be label, that means it is bipartite.\n",
    "for label in range(Number_of_set):\n",
    "    # a node can set as a label, when all its neighbors don't have same label\n",
    "    for node in range(N):\n",
    "        # this node should be unlabeled\n",
    "        if Labels[node] == Number_of_set:\n",
    "            # all its neighbor don't have same label\n",
    "            neighbors = graph[node]\n",
    "            can_label = True\n",
    "            for neighbor in neighbors:\n",
    "                # if neighbor has same label, this node can't be label\n",
    "                if Labels[neighbor] == label:\n",
    "                    can_label = False\n",
    "                    break\n",
    "            # check if it can be labeled\n",
    "            if can_label:\n",
    "                Labels[node] = label\n",
    "                #Unlabels.remove(node)\n",
    "# now all the node was labeled if we can. \n",
    "print(Labels)"
   ]
  },
  {
   "cell_type": "code",
   "execution_count": null,
   "metadata": {
    "scrolled": false
   },
   "outputs": [],
   "source": []
  }
 ],
 "metadata": {
  "kernelspec": {
   "display_name": "Python 3",
   "language": "python",
   "name": "python3"
  },
  "language_info": {
   "codemirror_mode": {
    "name": "ipython",
    "version": 3
   },
   "file_extension": ".py",
   "mimetype": "text/x-python",
   "name": "python",
   "nbconvert_exporter": "python",
   "pygments_lexer": "ipython3",
   "version": "3.7.4"
  }
 },
 "nbformat": 4,
 "nbformat_minor": 2
}
